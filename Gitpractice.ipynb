{
 "cells": [
  {
   "cell_type": "markdown",
   "id": "0095e9fd",
   "metadata": {},
   "source": [
    "본인 노트북에서 할 거면 Git을 깔아야 한대요"
   ]
  },
  {
   "cell_type": "code",
   "execution_count": null,
   "id": "8f1e9540",
   "metadata": {},
   "outputs": [],
   "source": [
    "\\\\\\\\ㅇ\\\\\\\\ㅇ\\\\ㅇ\\\\ㅇ\\\\\\\\\\\\\\ㅇ\\\\\\ㅇ\\\\\\\\\\\\ㅇ\\\\"
   ]
  },
  {
   "cell_type": "code",
   "execution_count": null,
   "id": "aca74b24",
   "metadata": {},
   "outputs": [],
   "source": []
  },
  {
   "cell_type": "code",
   "execution_count": null,
   "id": "bb54d6e2",
   "metadata": {},
   "outputs": [],
   "source": []
  },
  {
   "cell_type": "code",
   "execution_count": null,
   "id": "14c5c6a1",
   "metadata": {},
   "outputs": [],
   "source": []
  },
  {
   "cell_type": "code",
   "execution_count": null,
   "id": "2deb108e",
   "metadata": {},
   "outputs": [],
   "source": []
  },
  {
   "cell_type": "code",
   "execution_count": null,
   "id": "acab24c4",
   "metadata": {},
   "outputs": [],
   "source": []
  },
  {
   "cell_type": "code",
   "execution_count": null,
   "id": "a128b104",
   "metadata": {},
   "outputs": [],
   "source": []
  },
  {
   "cell_type": "code",
   "execution_count": null,
   "id": "c905270c",
   "metadata": {},
   "outputs": [],
   "source": []
  }
 ],
 "metadata": {
  "kernelspec": {
   "display_name": "Python 3 (ipykernel)",
   "language": "python",
   "name": "python3"
  },
  "language_info": {
   "codemirror_mode": {
    "name": "ipython",
    "version": 3
   },
   "file_extension": ".py",
   "mimetype": "text/x-python",
   "name": "python",
   "nbconvert_exporter": "python",
   "pygments_lexer": "ipython3",
   "version": "3.9.7"
  }
 },
 "nbformat": 4,
 "nbformat_minor": 5
}
